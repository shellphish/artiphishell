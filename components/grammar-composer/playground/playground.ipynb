{
 "cells": [
  {
   "cell_type": "code",
   "execution_count": 3,
   "metadata": {},
   "outputs": [
    {
     "data": {
      "text/plain": [
       "b'AAAA'"
      ]
     },
     "execution_count": 3,
     "metadata": {},
     "output_type": "execute_result"
    }
   ],
   "source": [
    "grammar_str = \"\"\"\n",
    "def long_running():\n",
    "    # This is a long-running function that takes a while to complete.\n",
    "    # It simulates a long-running process by sleeping for 5 seconds.\n",
    "    import time\n",
    "    time.sleep(1)\n",
    "    return b\"AAAA\"\n",
    "\n",
    "ctx.script(\"START\", [\"DUMMY\"], lambda dummy: long_running())\n",
    "ctx.literal(\"DUMMY\", \"AAAA\")\n",
    "\"\"\"\n",
    "\n",
    "from morpheus.grammar import Grammar\n",
    "grammar = Grammar.from_string(grammar_str)\n",
    "next(grammar.seed_iterator(nt=\"START\"))"
   ]
  },
  {
   "cell_type": "code",
   "execution_count": null,
   "metadata": {},
   "outputs": [],
   "source": [
    "from morpheus.grammar import Grammar\n",
    "from nautilus_python import PySerializedSeed, PyGenerator\n",
    "\n",
    "grammar = Grammar.from_file(\"/shellphish/grammar-composer/grammars/reference/XML.py\")\n",
    "\n",
    "filenames = os.listdir(\"/tmp/rons/\")\n",
    "for filename in filenames:\n",
    "    ron_bytes = grammar.generator.grammar_to_ron(grammar.serialize())\n",
    "    with open(f\"/tmp/rons/{filename}\", \"wb\") as f:\n",
    "        f.write(ron_bytes)"
   ]
  },
  {
   "cell_type": "code",
   "execution_count": null,
   "metadata": {},
   "outputs": [
    {
     "name": "stderr",
     "output_type": "stream",
     "text": [
      "100%|██████████| 25/25 [00:11<00:00,  2.16it/s]\n"
     ]
    }
   ],
   "source": [
    "import os\n",
    "os.environ[\"ARTIPHISHELL_FAIL_EARLY\"] = \"1\"\n",
    "\n",
    "import tqdm\n",
    "from glob import glob\n",
    "\n",
    "from morpheus.composable import Composable\n",
    "from morpheus.database import Database\n",
    "from morpheus.derivation_tree import DerivationTree\n",
    "from morpheus.grammar import Grammar\n",
    "from morpheus.config import REFERENCE_GRAMMARS_FILEPATHS\n",
    "\n",
    "DB = Database()\n",
    "\n",
    "# for grammar_name, grammar_path in tqdm.tqdm(REFERENCE_GRAMMARS_FILEPATHS.items()):\n",
    "#     grammar = Grammar.from_file(grammar_path)\n",
    "#     DB.import_grammar(grammar, grammar_name=grammar_name)\n",
    "\n",
    "for filepath in tqdm.tqdm(list(glob(\"/tmp/rons/*.ron\"))[:25]):\n",
    "    dt = DerivationTree.from_file(filepath)\n",
    "    DB.import_derivation_tree(dt)\n",
    "\n",
    "\n",
    "###############################################\n",
    "with open(\"/tmp/rons/f3fzimbn.ron\", \"rb\") as f:\n",
    "    ron_bytes = f.read()\n",
    "\n",
    "dt = DerivationTree.from_file(\"/tmp/rons/f3fzimbn.ron\")"
   ]
  },
  {
   "cell_type": "code",
   "execution_count": null,
   "metadata": {},
   "outputs": [],
   "source": [
    "new_dt = dt.copy()\n",
    "print(new_dt.grammar.serialize())\n",
    "# new_dt.grammar.widen()\n",
    "# print(new_dt.grammar.serialize())"
   ]
  },
  {
   "cell_type": "code",
   "execution_count": null,
   "metadata": {},
   "outputs": [
    {
     "name": "stdout",
     "output_type": "stream",
     "text": [
      "None\n",
      "None\n",
      "None\n",
      "None\n"
     ]
    }
   ],
   "source": [
    "from collections import Counter\n",
    "from morpheus.composable import Composition\n",
    "from morpheus.config import REFERENCE_GRAMMARS_FILEPATHS\n",
    "from morpheus.grammar import Grammar\n",
    "from morpheus.magic import MIME_TO_NAME\n",
    "\n",
    "new_compositions = []\n",
    "for rule_hash, parent_hash in {(node.rule.hexdigest, dt.get_parent(node).rule.hexdigest if dt.get_parent(node) else None) for node in dt.nodes}:\n",
    "    rows = DB.query_rules_data(rule_hash=rule_hash, parent_hash=parent_hash)\n",
    "    mimes = rows[\"mime\"]\n",
    "    encodings = rows[\"encoding\"]\n",
    "    mime_encoding_pairs = {(mime, encoding) for mime, encoding in zip(mimes, encodings) if mime}\n",
    "    mime_encoding_counter = Counter(mime_encoding_pairs)\n",
    "    total = sum(mime_encoding_counter.values())\n",
    "    for (mime, encoding), count in mime_encoding_counter.items():\n",
    "        if count / total > 0.2:\n",
    "            external_grammar_name = MIME_TO_NAME[mime]\n",
    "            if external_grammar_name in REFERENCE_GRAMMARS_FILEPATHS:\n",
    "                external_grammar = Grammar.from_file(REFERENCE_GRAMMARS_FILEPATHS[external_grammar_name])\n",
    "                composition = DB.insert_active_composition(rule_hash, parent_hash, external_grammar, external_rule=None, external_nonterm=\"START\", encoding=encoding)\n",
    "                if composition:\n",
    "                    new_compositions.append(composition)\n",
    "            # if f\"{external_grammar_name}@CORPUS\" in CORPUS_GRAMMARS_FILEPATHS:\n",
    "            #     external_grammar = Grammar.from_file(CORPUS_GRAMMARS_FILEPATHS[f\"{external_grammar_name}@CORPUS\"])\n",
    "            #     composition = DB.insert_active_composition(rule_hash, parent_hash, external_grammar, external_rule=None, external_nonterm=\"START\", encoding=encoding)\n",
    "            #     if composition:\n",
    "            #         new_compositions.append(composition)"
   ]
  },
  {
   "cell_type": "code",
   "execution_count": 14,
   "metadata": {},
   "outputs": [
    {
     "data": {
      "text/html": [
       "<div>\n",
       "<style scoped>\n",
       "    .dataframe tbody tr th:only-of-type {\n",
       "        vertical-align: middle;\n",
       "    }\n",
       "\n",
       "    .dataframe tbody tr th {\n",
       "        vertical-align: top;\n",
       "    }\n",
       "\n",
       "    .dataframe thead th {\n",
       "        text-align: right;\n",
       "    }\n",
       "</style>\n",
       "<table border=\"1\" class=\"dataframe\">\n",
       "  <thead>\n",
       "    <tr style=\"text-align: right;\">\n",
       "      <th></th>\n",
       "      <th>internal_rule_hash</th>\n",
       "      <th>internal_parent_hash</th>\n",
       "      <th>external_grammar_hash</th>\n",
       "      <th>external_rule_hash</th>\n",
       "      <th>external_nonterm</th>\n",
       "      <th>encoding</th>\n",
       "    </tr>\n",
       "  </thead>\n",
       "  <tbody>\n",
       "    <tr>\n",
       "      <th>0</th>\n",
       "      <td>52c5093bb06d2d63fa34e00b3063a6d9696ff237e016ca...</td>\n",
       "      <td>6d871955c4be2b9d1728576265de81c96a200b8c5c8d30...</td>\n",
       "      <td>09da930dc885adb481f0490ed3cefe7d0b208e0753bdd9...</td>\n",
       "      <td>None</td>\n",
       "      <td>START</td>\n",
       "      <td>None</td>\n",
       "    </tr>\n",
       "    <tr>\n",
       "      <th>1</th>\n",
       "      <td>52c5093bb06d2d63fa34e00b3063a6d9696ff237e016ca...</td>\n",
       "      <td>6d871955c4be2b9d1728576265de81c96a200b8c5c8d30...</td>\n",
       "      <td>d7bced5541d241a3ddd926a78c1af1635b8b8eefb637d0...</td>\n",
       "      <td>None</td>\n",
       "      <td>START</td>\n",
       "      <td>None</td>\n",
       "    </tr>\n",
       "    <tr>\n",
       "      <th>2</th>\n",
       "      <td>55e43c4f11d4d6c4a1cc3eca0da0bba9798049e7cc3a09...</td>\n",
       "      <td>None</td>\n",
       "      <td>09da930dc885adb481f0490ed3cefe7d0b208e0753bdd9...</td>\n",
       "      <td>None</td>\n",
       "      <td>START</td>\n",
       "      <td>None</td>\n",
       "    </tr>\n",
       "    <tr>\n",
       "      <th>3</th>\n",
       "      <td>55e43c4f11d4d6c4a1cc3eca0da0bba9798049e7cc3a09...</td>\n",
       "      <td>None</td>\n",
       "      <td>d7bced5541d241a3ddd926a78c1af1635b8b8eefb637d0...</td>\n",
       "      <td>None</td>\n",
       "      <td>START</td>\n",
       "      <td>None</td>\n",
       "    </tr>\n",
       "    <tr>\n",
       "      <th>4</th>\n",
       "      <td>52c5093bb06d2d63fa34e00b3063a6d9696ff237e016ca...</td>\n",
       "      <td>6d871955c4be2b9d1728576265de81c96a200b8c5c8d30...</td>\n",
       "      <td>09da930dc885adb481f0490ed3cefe7d0b208e0753bdd9...</td>\n",
       "      <td>None</td>\n",
       "      <td>START</td>\n",
       "      <td>None</td>\n",
       "    </tr>\n",
       "    <tr>\n",
       "      <th>5</th>\n",
       "      <td>52c5093bb06d2d63fa34e00b3063a6d9696ff237e016ca...</td>\n",
       "      <td>6d871955c4be2b9d1728576265de81c96a200b8c5c8d30...</td>\n",
       "      <td>d7bced5541d241a3ddd926a78c1af1635b8b8eefb637d0...</td>\n",
       "      <td>None</td>\n",
       "      <td>START</td>\n",
       "      <td>None</td>\n",
       "    </tr>\n",
       "    <tr>\n",
       "      <th>6</th>\n",
       "      <td>55e43c4f11d4d6c4a1cc3eca0da0bba9798049e7cc3a09...</td>\n",
       "      <td>None</td>\n",
       "      <td>09da930dc885adb481f0490ed3cefe7d0b208e0753bdd9...</td>\n",
       "      <td>None</td>\n",
       "      <td>START</td>\n",
       "      <td>None</td>\n",
       "    </tr>\n",
       "    <tr>\n",
       "      <th>7</th>\n",
       "      <td>55e43c4f11d4d6c4a1cc3eca0da0bba9798049e7cc3a09...</td>\n",
       "      <td>None</td>\n",
       "      <td>d7bced5541d241a3ddd926a78c1af1635b8b8eefb637d0...</td>\n",
       "      <td>None</td>\n",
       "      <td>START</td>\n",
       "      <td>None</td>\n",
       "    </tr>\n",
       "  </tbody>\n",
       "</table>\n",
       "</div>"
      ],
      "text/plain": [
       "                                  internal_rule_hash  \\\n",
       "0  52c5093bb06d2d63fa34e00b3063a6d9696ff237e016ca...   \n",
       "1  52c5093bb06d2d63fa34e00b3063a6d9696ff237e016ca...   \n",
       "2  55e43c4f11d4d6c4a1cc3eca0da0bba9798049e7cc3a09...   \n",
       "3  55e43c4f11d4d6c4a1cc3eca0da0bba9798049e7cc3a09...   \n",
       "4  52c5093bb06d2d63fa34e00b3063a6d9696ff237e016ca...   \n",
       "5  52c5093bb06d2d63fa34e00b3063a6d9696ff237e016ca...   \n",
       "6  55e43c4f11d4d6c4a1cc3eca0da0bba9798049e7cc3a09...   \n",
       "7  55e43c4f11d4d6c4a1cc3eca0da0bba9798049e7cc3a09...   \n",
       "\n",
       "                                internal_parent_hash  \\\n",
       "0  6d871955c4be2b9d1728576265de81c96a200b8c5c8d30...   \n",
       "1  6d871955c4be2b9d1728576265de81c96a200b8c5c8d30...   \n",
       "2                                               None   \n",
       "3                                               None   \n",
       "4  6d871955c4be2b9d1728576265de81c96a200b8c5c8d30...   \n",
       "5  6d871955c4be2b9d1728576265de81c96a200b8c5c8d30...   \n",
       "6                                               None   \n",
       "7                                               None   \n",
       "\n",
       "                               external_grammar_hash external_rule_hash  \\\n",
       "0  09da930dc885adb481f0490ed3cefe7d0b208e0753bdd9...               None   \n",
       "1  d7bced5541d241a3ddd926a78c1af1635b8b8eefb637d0...               None   \n",
       "2  09da930dc885adb481f0490ed3cefe7d0b208e0753bdd9...               None   \n",
       "3  d7bced5541d241a3ddd926a78c1af1635b8b8eefb637d0...               None   \n",
       "4  09da930dc885adb481f0490ed3cefe7d0b208e0753bdd9...               None   \n",
       "5  d7bced5541d241a3ddd926a78c1af1635b8b8eefb637d0...               None   \n",
       "6  09da930dc885adb481f0490ed3cefe7d0b208e0753bdd9...               None   \n",
       "7  d7bced5541d241a3ddd926a78c1af1635b8b8eefb637d0...               None   \n",
       "\n",
       "  external_nonterm encoding  \n",
       "0            START     None  \n",
       "1            START     None  \n",
       "2            START     None  \n",
       "3            START     None  \n",
       "4            START     None  \n",
       "5            START     None  \n",
       "6            START     None  \n",
       "7            START     None  "
      ]
     },
     "execution_count": 14,
     "metadata": {},
     "output_type": "execute_result"
    }
   ],
   "source": [
    "import numpy as np\n",
    "encoding = None\n",
    "DB.active_compositions[\n",
    "    (DB.active_compositions.encoding == encoding if encoding else DB.active_compositions.encoding.isna())\n",
    "]"
   ]
  },
  {
   "cell_type": "code",
   "execution_count": null,
   "metadata": {},
   "outputs": [
    {
     "name": "stderr",
     "output_type": "stream",
     "text": [
      "INFO | morpheus | [magic_similarity] Rule XML_DECL.0 matches XML:START with confidence 1.0\n",
      "INFO | morpheus | Found 1 valid configurations\n",
      "INFO | morpheus | Building configuration: (0,)\n"
     ]
    },
    {
     "name": "stderr",
     "output_type": "stream",
     "text": [
      "INFO | morpheus | Inserted new rule XML_DECL -> XML_EXTERNAL:START.0\n",
      "INFO | morpheus | Inserted new rule XML_DECL -> XML@CORPUS_EXTERNAL:START.0\n"
     ]
    },
    {
     "name": "stdout",
     "output_type": "stream",
     "text": [
      "b'<?xml version=\"1.0\"?>\\n<document><!--o9.?!R8,.bg0C x?m--><!--Fp,i?R r!Rf,45?--> .o.??khRR<!--54. j2n6,7,,eB-->Q! ?!0?.?.G ,<b\\'yBa\\'b\\' A=\"4\" A=\"I7Qm0OR72XFrSL\"\\'/><!--.,4??4,G.jnh,!.5?.-->6R?,,0  <!--g.!6g.z--><b\\'F269m\\'b\\' A=\"\" S=\"QL6ehuh9w7N3qM003wjERy58446ixgiPC445NF26bp6dqc7e7267N3qN7rvl9Oy5Mjf0Rz4531gat82InH0jXt9cdezBzN9E128b220KN70eL7p77F4u1\"\\'>b\\'<b\\\\\\'y1ONj2ah7\\\\\\'b\\\\\\' tuz9R0kTqnu3L0L66k383D34k568Gl64S3d0=\"\" MIFu3Ncx0DxfpTd1wv9WdYlUx51eLEEwXfYWa0PF1Y9j2P9IQm4Iv7nx4Nn29E=\"8ormWE4b71pH7nyumsLh32w3n1CrP066oe14dlm0REsKJ0YVAhbLS66f7NrzM\" B=\"w8sfZ8D2ZPcONB43TP7OU08683mx8LbGo666K2BX7Qi0YjX2qZ1D1mLo45CNgd3pHW0kempc5D\"\\\\\\'/><b\\\\\\'L98u1WK0w9z430Mx22J12133\\\\\\'b\\\\\\'\\\\\\'/><!----> <b\\\\\\'XCF2RzO1j49zVY01b2J14c0VxybM6i\\\\\\'b\\\\\\'\\\\\\'/><!--O!??P.qK--><b\\\\\\'S8\\\\\\'b\\\\\\' A=\"\" p1=\"G\"\\\\\\'/>,?3,.xKr?.<!--, 5?.,!? e?L? -->??,,e0?Uj,,!,, 96,.08?.?.!.?3 ? .? ?.<b\\\\\\'A\\\\\\'b\\\\\\' Fs4DwCfOD0RSYx=\"xE1E6jpgL4N0ZR0beJuluf\"\\\\\\'/>60wl! uL!!3vH5.<b\\\\\\'R4W309Rjr93780i8xqZP6Drp54R3npAoaD40a0KHQH9D0aD5VPb3vBskZr33uYC7mHsZTtWV28D\\\\\\'b\\\\\\'\\\\\\'/><!--,,6.4m5,iUkwS,?V z,a34,?9?,--><b\\\\\\'Qp2q\\\\\\'b\\\\\\'\\\\\\'>b\\\\\\'<b\\\\\\\\\\\\\\'O\\\\\\\\\\\\\\'b\\\\\\\\\\\\\\' xZMBc5MmDZSoeMJ7c071N8Q=\"0\"\\\\\\\\\\\\\\'>b\\\\\\\\\\\\\\'\\\\\\\\\\\\\\'</b\\\\\\\\\\\\\\'O\\\\\\\\\\\\\\'>\\\\\\'</b\\\\\\'Qp2q\\\\\\'><!--?U-->?5?L.<!--E?2Cv 6.4!W?G,,?rKh!,, ?  ?-->\\'</b\\'F269m\\'></document><document><!--?1,W??L.?PV.,3??,-->.<b\\'VWBmPMNfwZ0p3vvU1tT15O3o4QA87JGAjcMk95qSXTr\\'b\\'\\'>b\\' ?e<b\\\\\\'OsGxu4La8NBRQ9J3Jd0Cj04an2j9h4TB4wELb699q520bpyCUTwI48zdt7d8U57iZ87O9L026l0o908sAf5kse5XA6340Ejj3KjeCRFTHvKNYf3pJj06s71ZO40ogJKsDJVGJ9AcjLA1obI3wM294w81LdibrLFsy1nRtO4ls51NgV7MM1X3x8s\\\\\\'b\\\\\\' A=\"\"\\\\\\'>b\\\\\\'<b\\\\\\\\\\\\\\'S4Hh\\\\\\\\\\\\\\'b\\\\\\\\\\\\\\' A=\"wA5Ev6YWHC9e\" A=\"\"\\\\\\\\\\\\\\'/><!----><b\\\\\\\\\\\\\\'A\\\\\\\\\\\\\\'b\\\\\\\\\\\\\\' A=\"\"\\\\\\\\\\\\\\'>b\\\\\\\\\\\\\\'\\\\\\\\\\\\\\'</b\\\\\\\\\\\\\\'A\\\\\\\\\\\\\\'><b\\\\\\\\\\\\\\'NQoms32\\\\\\\\\\\\\\'b\\\\\\\\\\\\\\'\\\\\\\\\\\\\\'/>1!y,5,?,  0,J\\\\\\'</b\\\\\\'OsGxu4La8NBRQ9J3Jd0Cj04an2j9h4TB4wELb699q520bpyCUTwI48zdt7d8U57iZ87O9L026l0o908sAf5kse5XA6340Ejj3KjeCRFTHvKNYf3pJj06s71ZO40ogJKsDJVGJ9AcjLA1obI3wM294w81LdibrLFsy1nRtO4ls51NgV7MM1X3x8s\\\\\\'><b\\\\\\'fea4zh\\\\\\'b\\\\\\'\\\\\\'/><b\\\\\\'t4v3\\\\\\'b\\\\\\'\\\\\\'>b\"<b\\\\\\'A\\\\\\'b\\\\\\'\\\\\\'/>\"</b\\\\\\'t4v3\\\\\\'>y9!Q<b\\\\\\'Te\\\\\\'b\\\\\\'\\\\\\'>b\\\\\\'JowS?..p.!7RW<!---->\\\\\\'</b\\\\\\'Te\\\\\\'><!--Ls8Y? k.yO2 D??,.!??p!?.v,??,--> 6 sF 5fwd?.L,8.zEo,\\'</b\\'VWBmPMNfwZ0p3vvU1tT15O3o4QA87JGAjcMk95qSXTr\\'><!---->, .e,AxNt!,,<b\\'A\\'b\\'\\'>b\"<b\\'JicV0wAh\\'b\\'\\'/>W\"</b\\'A\\'><!--, ,F!,2--><b\\'I\\'b\\'\\'>b\\'<b\\\\\\'cC\\\\\\'b\\\\\\' A=\"deiNM219FJ4iL0cWVDuYkIZZdXW61kdR3iO6P4u5Xfz3E8\" l0n0912eYAFpm40moWX81LHby2TGQ7351WWjmBR6KwUle0b1eVlOHG2x07O9CP08Iy0DKTf3ulXpelHIr52TFL0Aa5a9vw9om8sAutHL9WfDe4F2cAPXp778HDhjr5jpgSADQKbV0w33qF0w00Z451wULWdU4aAlU55LjlO4yi88ZYrFcMSCUQzyC3kU8Ik50lrt7A4lG483f4qPjvSSZ0k9shL56x88hF5uLgLwW0Ss3nCNAHgIIatrK47fQWm=\"ITfXKMv6KIhS04\"\\\\\\'/>\\'</b\\'I\\'><b\\'P\\'b\\' A=\"1tSkms3B5\"\\'>b\"<!--5,?,--><b\\'k8mXZNKqD9tJC080H454Of0TIT3L2EjTrZ65HSS7TaXhNwNLv\\'b\\'\\'/><!---->?,?c<b\\'A\\'b\\'\\'>b\\'<!---->\\'</b\\'A\\'>d,?. <!--1u2e --><b\\'V215\\'b\\'\\'>b\\'\\'</b\\'V215\\'>\"</b\\'P\\'>!L?. vl,.1,!</document>'\n"
     ]
    }
   ],
   "source": [
    "for new_dt in dt.iter_compositions():\n",
    "    ron = new_dt.to_pyserialized_seed()\n",
    "    print(ron.unparse_node_to_vec(0))\n",
    "    # print(new_dt)\n",
    "\n",
    "# for new_grammar in dt.grammar.iter_compositions():\n",
    "#     pass"
   ]
  },
  {
   "cell_type": "code",
   "execution_count": null,
   "metadata": {},
   "outputs": [
    {
     "ename": "AssertionError",
     "evalue": "",
     "output_type": "error",
     "traceback": [
      "\u001b[0;31m---------------------------------------------------------------------------\u001b[0m",
      "\u001b[0;31mAssertionError\u001b[0m                            Traceback (most recent call last)",
      "Cell \u001b[0;32mIn[3], line 23\u001b[0m\n\u001b[1;32m     20\u001b[0m     ron_bytes \u001b[38;5;241m=\u001b[39m f\u001b[38;5;241m.\u001b[39mread()\n\u001b[1;32m     22\u001b[0m ron \u001b[38;5;241m=\u001b[39m PySerializedSeed\u001b[38;5;241m.\u001b[39mfrom_ron_bytes(ron_bytes)\n\u001b[0;32m---> 23\u001b[0m \u001b[38;5;28;01massert\u001b[39;00m ron\u001b[38;5;241m.\u001b[39mto_ron_bytes() \u001b[38;5;241m==\u001b[39m ron_bytes\n\u001b[1;32m     25\u001b[0m unparsed_before \u001b[38;5;241m=\u001b[39m ron\u001b[38;5;241m.\u001b[39munparse_to_vec()\n\u001b[1;32m     26\u001b[0m ron \u001b[38;5;241m=\u001b[39m PySerializedSeed\u001b[38;5;241m.\u001b[39mfrom_ron_bytes(ron\u001b[38;5;241m.\u001b[39mto_ron_bytes())\n",
      "\u001b[0;31mAssertionError\u001b[0m: "
     ]
    }
   ],
   "source": [
    "# import os\n",
    "# os.environ[\"ARTIPHISHELL_FAIL_EARLY\"] = \"1\"\n",
    "\n",
    "# from morpheus.grammar import Grammar\n",
    "# filepath = \"/home/ruaronicola/artiphishell/libs/nautilus/grammars/reference/XML.py\"\n",
    "# with open(filepath, \"r\") as f:\n",
    "#     grammar_str = f.read()\n",
    "#     grammar = Grammar.from_string(grammar_str)\n",
    "\n",
    "from nautilus_python import PySerializedSeed, PyGenerator\n",
    "# ron_bytes = PyGenerator.grammar_to_ron(grammar_str)\n",
    "\n",
    "# for _ in range(1000):\n",
    "#     ron_bytes = PyGenerator.grammar_to_ron(grammar_str)\n",
    "#     import tempfile\n",
    "#     with tempfile.NamedTemporaryFile(prefix=\"/tmp/rons/\", suffix=\".ron\", delete=False) as tmp:\n",
    "#         tmp.write(ron_bytes)\n",
    "\n",
    "with open(\"/tmp/rons/f3fzimbn.ron\", \"rb\") as f:\n",
    "    ron_bytes = f.read()\n",
    "\n",
    "ron = PySerializedSeed.from_ron_bytes(ron_bytes)\n",
    "assert ron.to_ron_bytes() == ron_bytes\n",
    "\n",
    "unparsed_before = ron.unparse_to_vec()\n",
    "ron = PySerializedSeed.from_ron_bytes(ron.to_ron_bytes())\n",
    "unparsed_after = ron.unparse_to_vec()\n",
    "assert unparsed_before == unparsed_after\n",
    "\n",
    "output_bytes = ron.unparse_to_vec()"
   ]
  },
  {
   "cell_type": "code",
   "execution_count": 91,
   "metadata": {},
   "outputs": [],
   "source": [
    "from nautilus_python import PyRuleIDOrCustom, PyRuleID, PyTree\n",
    "new_rules = ron.tree.rules\n",
    "new_rules[3] = PyRuleIDOrCustom.Custom(PyRuleID(6), [42]*50)\n",
    "# ron.tree.rules = new_rules\n",
    "# ron.tree.rules"
   ]
  },
  {
   "cell_type": "code",
   "execution_count": 92,
   "metadata": {},
   "outputs": [
    {
     "ename": "TypeError",
     "evalue": "PyTree.__new__() takes 0 positional arguments but 3 were given",
     "output_type": "error",
     "traceback": [
      "\u001b[0;31m---------------------------------------------------------------------------\u001b[0m",
      "\u001b[0;31mTypeError\u001b[0m                                 Traceback (most recent call last)",
      "Cell \u001b[0;32mIn[92], line 1\u001b[0m\n\u001b[0;32m----> 1\u001b[0m tree \u001b[38;5;241m=\u001b[39m \u001b[43mPyTree\u001b[49m\u001b[43m(\u001b[49m\u001b[43mnew_rules\u001b[49m\u001b[43m,\u001b[49m\u001b[43m \u001b[49m\u001b[43mron\u001b[49m\u001b[38;5;241;43m.\u001b[39;49m\u001b[43mtree\u001b[49m\u001b[38;5;241;43m.\u001b[39;49m\u001b[43msizes\u001b[49m\u001b[43m,\u001b[49m\u001b[43m \u001b[49m\u001b[43mron\u001b[49m\u001b[38;5;241;43m.\u001b[39;49m\u001b[43mtree\u001b[49m\u001b[38;5;241;43m.\u001b[39;49m\u001b[43mparen\u001b[49m\u001b[43m)\u001b[49m\n",
      "\u001b[0;31mTypeError\u001b[0m: PyTree.__new__() takes 0 positional arguments but 3 were given"
     ]
    }
   ],
   "source": [
    "tree = PyTree(new_rules, ron.tree.sizes, ron.tree.paren)"
   ]
  },
  {
   "cell_type": "code",
   "execution_count": null,
   "metadata": {},
   "outputs": [
    {
     "name": "stdout",
     "output_type": "stream",
     "text": [
      "Processing grammar_path='../grammars/reference/draft-DOCX.py'\n",
      "../grammars/reference/draft-DOCX.py 1000 defaultdict(<class 'int'>, {'application/zip': 1000})\n",
      "--------------------\n"
     ]
    }
   ],
   "source": [
    "import glob\n",
    "import os\n",
    "import magic\n",
    "from collections import defaultdict\n",
    "\n",
    "from morpheus.grammar import Grammar\n",
    "\n",
    "MAGIC = magic.Magic(mime=True)\n",
    "\n",
    "# grammar_str = r\"\"\"\n",
    "\n",
    "# \"\"\"\n",
    "\n",
    "for grammar_path in glob.glob(\"../grammars/reference/draft-*\")[:]:\n",
    "# for grammar_path in glob.glob(\"../grammars/reference/*CORPUS*\")[:]:\n",
    "    if os.path.isdir(grammar_path):\n",
    "        continue\n",
    "    print(f\"Processing {grammar_path=}\")\n",
    "    grammar = Grammar.from_file(grammar_path, tree_depth=200)\n",
    "    mime_counter = defaultdict(int)\n",
    "    distinct_seeds = set()\n",
    "    for s in set(grammar.seed_iterator(nt=\"START\", n=1000)):\n",
    "        mime = MAGIC.from_buffer(s)\n",
    "        mime_counter[mime] += 1\n",
    "        distinct_seeds.add(s)\n",
    "    print(grammar_path, len(distinct_seeds), mime_counter)\n",
    "    print(\"-\"*20)"
   ]
  },
  {
   "cell_type": "code",
   "execution_count": 22,
   "metadata": {},
   "outputs": [
    {
     "data": {
      "text/plain": [
       "273"
      ]
     },
     "execution_count": 22,
     "metadata": {},
     "output_type": "execute_result"
    }
   ],
   "source": [
    "len(list(set(grammar.seed_iterator(nt=\"START\", n=100)))[0])"
   ]
  },
  {
   "cell_type": "code",
   "execution_count": 1,
   "metadata": {},
   "outputs": [
    {
     "name": "stderr",
     "output_type": "stream",
     "text": [
      "ERROR | morpheus | Generator error in iter_compositions: Grammar.iter_compositions() missing 1 required positional argument: 'profile_db'\n"
     ]
    },
    {
     "ename": "StopIteration",
     "evalue": "",
     "output_type": "error",
     "traceback": [
      "\u001b[0;31m---------------------------------------------------------------------------\u001b[0m",
      "\u001b[0;31mStopIteration\u001b[0m                             Traceback (most recent call last)",
      "Cell \u001b[0;32mIn[1], line 5\u001b[0m\n\u001b[1;32m      2\u001b[0m filepath \u001b[38;5;241m=\u001b[39m \u001b[38;5;124m\"\u001b[39m\u001b[38;5;124m/shellphish/grammar-composer/grammars/_simplified/grammar-guy-tika.py\u001b[39m\u001b[38;5;124m\"\u001b[39m\n\u001b[1;32m      3\u001b[0m old_grammar \u001b[38;5;241m=\u001b[39m Grammar\u001b[38;5;241m.\u001b[39mfrom_file(filepath)\n\u001b[0;32m----> 5\u001b[0m new_grammar \u001b[38;5;241m=\u001b[39m \u001b[38;5;28;43mnext\u001b[39;49m\u001b[43m(\u001b[49m\u001b[43mold_grammar\u001b[49m\u001b[38;5;241;43m.\u001b[39;49m\u001b[43miter_compositions\u001b[49m\u001b[43m(\u001b[49m\u001b[43m)\u001b[49m\u001b[43m)\u001b[49m\n\u001b[1;32m      6\u001b[0m \u001b[38;5;28mprint\u001b[39m(new_grammar\u001b[38;5;241m.\u001b[39mserialize())\n",
      "\u001b[0;31mStopIteration\u001b[0m: "
     ]
    }
   ],
   "source": [
    "from morpheus.grammar import Grammar\n",
    "filepath = \"/shellphish/grammar-composer/grammars/_simplified/grammar-guy-tika.py\"\n",
    "old_grammar = Grammar.from_file(filepath)\n",
    "\n",
    "new_grammar = next(old_grammar.iter_compositions())\n",
    "print(new_grammar.serialize())"
   ]
  },
  {
   "cell_type": "code",
   "execution_count": 2,
   "metadata": {},
   "outputs": [
    {
     "data": {
      "text/plain": [
       "b'AAAA'"
      ]
     },
     "execution_count": 2,
     "metadata": {},
     "output_type": "execute_result"
    }
   ],
   "source": [
    "from morpheus.derivation_tree import DerivationTree\n",
    "from morpheus.grammar import Grammar\n",
    "\n",
    "grammar_str = \"\"\"\n",
    "ctx.rule(\"START\", \"{TEST}\")\n",
    "ctx.rule(\"TEST\", \"AAAA\")\n",
    "\"\"\"\n",
    "\n",
    "grammar = Grammar.from_string(grammar_str)\n",
    "ron_bytes = grammar.generator.grammar_to_ron(grammar.serialize())\n",
    "\n",
    "dt = DerivationTree.from_ron_bytes(ron_bytes, None)\n",
    "ron = dt.to_pyserialized_seed()\n",
    "seed = ron.unparse_node_to_vec(0)\n",
    "seed"
   ]
  }
 ],
 "metadata": {
  "kernelspec": {
   "display_name": "aixcc",
   "language": "python",
   "name": "python3"
  },
  "language_info": {
   "codemirror_mode": {
    "name": "ipython",
    "version": 3
   },
   "file_extension": ".py",
   "mimetype": "text/x-python",
   "name": "python",
   "nbconvert_exporter": "python",
   "pygments_lexer": "ipython3",
   "version": "3.10.12"
  }
 },
 "nbformat": 4,
 "nbformat_minor": 2
}
