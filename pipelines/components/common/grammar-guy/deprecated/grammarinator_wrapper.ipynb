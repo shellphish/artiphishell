{
 "cells": [
  {
   "cell_type": "code",
   "execution_count": null,
   "metadata": {},
   "outputs": [],
   "source": [
    "import grammarinator as gram\n",
    "import importlib\n",
    "ClibJsonGenerator = importlib.util.spec_from_file_location(\"ClibJsonGenerator\", \"grammar_files/generators/\")\n",
    "import os\n",
    "import subprocess"
   ]
  },
  {
   "cell_type": "markdown",
   "metadata": {},
   "source": [
    "# MAKE PYTHON FILE - AGNOSTIC TO INPUT"
   ]
  },
  {
   "cell_type": "code",
   "execution_count": null,
   "metadata": {},
   "outputs": [],
   "source": [
    "START_RULE = ' --rule=json'\n",
    "GRAMMAR_FILE = '/clib_fullsource_gpto4.g4'\n",
    "GRAMMAR_PATH = os.path.abspath(\"./grammar_files/grammars\") + GRAMMAR_FILE\n",
    "GENERATOR_OUT_PATH = os.path.abspath('./grammar_files/generators')\n",
    "SYS_PATH = ' --sys-path=' + GENERATOR_OUT_PATH\n",
    "GENERATOR = ' ClibJsonGenerator.ClibJsonGenerator'\n",
    "DEPTH = '20'        # default=20\n",
    "OUTPUT_DIR = './grammar_files/generated_inputs/clib/'\n",
    "OUTPUT_PATTERN = 'test_%d.json'\n",
    "NUM_OUTPUTS = '10000'\n"
   ]
  },
  {
   "cell_type": "markdown",
   "metadata": {},
   "source": [
    "# Setting up the grammarinator instance\n",
    "\n",
    "- First call `grammarinator-process`\n",
    "    - Creates a grammarinator generator for input creation\n",
    "- Call `grammarinator-generate`\n",
    "    - Creates `n` random output files according to the grammars specification\n",
    "    - Stores them in `OUTPUT_DIR` named as specified in `OUTPUT_PATTERN`\n",
    "\n",
    "## Original build\n",
    "- `grammarinator-process grammars/clib_combined4_gpt4.g4 --rule=clibJson -o output/`\n",
    "- `grammarinator-generate --sys-path ./output/ ClibJsonGenerator.ClibJsonGenerator --rule clibJson -d 20 -o generated_inputs/test_%d.html -n 10`"
   ]
  },
  {
   "cell_type": "code",
   "execution_count": null,
   "metadata": {},
   "outputs": [],
   "source": [
    "# grammarinator-process\n",
    "# DEBUG print('grammarinator-process '+ GRAMMAR_PATH + START_RULE + ' -o ' + GENERATOR_OUT_PATH)\n",
    "\n",
    "generator_setup = subprocess.run('grammarinator-process '+ GRAMMAR_PATH + START_RULE + ' -o ' + GENERATOR_OUT_PATH,\n",
    "                shell=True,\n",
    "                executable='/bin/bash')         # Generator out filename\n"
   ]
  },
  {
   "cell_type": "code",
   "execution_count": null,
   "metadata": {},
   "outputs": [],
   "source": [
    "# grammarinator-generate\n",
    "# DEBUG \n",
    "print('grammarinator-generate' + SYS_PATH + GENERATOR + START_RULE +' -d ' + DEPTH + ' -o' + OUTPUT_DIR + OUTPUT_PATTERN + ' -n ' + NUM_OUTPUTS)\n",
    "\n",
    "generate = subprocess.run('grammarinator-generate' + SYS_PATH + GENERATOR + START_RULE +\n",
    "                          ' -d ' + DEPTH + ' -n ' + NUM_OUTPUTS + ' -o ' + OUTPUT_DIR + OUTPUT_PATTERN, \n",
    "                          shell=True, \n",
    "                          executable='/bin/bash')\n",
    "# os.listdir(os.path.abspath(OUTPUT_DIR))"
   ]
  },
  {
   "cell_type": "code",
   "execution_count": null,
   "metadata": {},
   "outputs": [],
   "source": []
  },
  {
   "cell_type": "markdown",
   "metadata": {},
   "source": [
    "# Calling libFuzzer\n",
    "\n",
    "- `../output_files/fuzz_manifest` contains the precompiled binary (using `--coverage`)\n",
    "- The harness is `clib_harness.c` which again harnesses the `../../clib/test/fuzzing/fuzz_manifest.c`\n",
    "\n",
    "- Original build instructions were: \n",
    "### Prepare the build.sh\n",
    "\n",
    "- remove first lines before \"Copyright\"\n",
    "- set environment variables for CC CXX CFLAGS CXXFLAGS OUT SRC WORK etc (as seen below in path)\n",
    "- the LIB_FUZZING_ENGINE specifies the harness that \"we wrote\"\n",
    "- fuzzing executable will appear in $OUT. There you can hand input to the harness. \n",
    "\n",
    "### Rebuilding the fuzzing harness\n",
    "\n",
    "- run `github restore -p` to remove all the replaced functions and allow rebuild \n",
    "- go to clib **parent** folder \n",
    "- add environment variables\n",
    "    - `CC=clang CFLAGS=--coverage CXXFLAGS=--coverage CXX=clang++ SRC=$(realpath .) OUT=$(realpath output_files) WORK=$(realpath work_files) LIB_FUZZING_ENGINE=$(realpath test_grammarinator/src/clib_harness.c) ./build.sh`"
   ]
  },
  {
   "cell_type": "code",
   "execution_count": null,
   "metadata": {},
   "outputs": [],
   "source": []
  },
  {
   "cell_type": "markdown",
   "metadata": {},
   "source": []
  }
 ],
 "metadata": {
  "kernelspec": {
   "display_name": "thesis_fuzz",
   "language": "python",
   "name": "python3"
  },
  "language_info": {
   "codemirror_mode": {
    "name": "ipython",
    "version": 3
   },
   "file_extension": ".py",
   "mimetype": "text/x-python",
   "name": "python",
   "nbconvert_exporter": "python",
   "pygments_lexer": "ipython3",
   "version": "3.10.12"
  }
 },
 "nbformat": 4,
 "nbformat_minor": 2
}
